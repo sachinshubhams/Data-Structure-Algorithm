{
 "cells": [
  {
   "cell_type": "code",
   "execution_count": 24,
   "metadata": {},
   "outputs": [
    {
     "name": "stdout",
     "output_type": "stream",
     "text": [
      "preOrderTraversal\n",
      "N1\n",
      "N2\n",
      "N4\n",
      "N5\n",
      "N3\n",
      "N6\n",
      "N7\n",
      "inOrderTraversal\n",
      "N4\n",
      "N2\n",
      "N5\n",
      "N1\n",
      "N6\n",
      "N3\n",
      "N7\n",
      "postOrderTraversal\n",
      "N4\n",
      "N5\n",
      "N2\n",
      "N6\n",
      "N7\n",
      "N3\n",
      "N1\n"
     ]
    }
   ],
   "source": [
    "class TreeNode:    \n",
    "    def __init__(self, data):\n",
    "        self.data=data\n",
    "        self.leftChild=None\n",
    "        self.rightChild=None\n",
    "\n",
    "newBinTree=TreeNode(\"N1\")\n",
    "leftChild=TreeNode(\"N2\")\n",
    "n4=TreeNode(\"N4\")\n",
    "n5=TreeNode(\"N5\")\n",
    "leftChild.leftChild=n4\n",
    "leftChild.rightChild=n5\n",
    "rightChild=TreeNode(\"N3\")\n",
    "n6=TreeNode(\"N6\")\n",
    "n7=TreeNode(\"N7\")\n",
    "rightChild.leftChild=n6\n",
    "rightChild.rightChild=n7\n",
    "\n",
    "newBinTree.leftChild=leftChild\n",
    "newBinTree.rightChild=rightChild\n",
    "\n",
    "\n",
    "def preOrderTraversal(rootNode):\n",
    "    if not rootNode:#-------------------------------------O(1)\n",
    "        return\n",
    "    print(rootNode.data)#---------------------------------O(1)\n",
    "    preOrderTraversal(rootNode.leftChild)#----------------O(N/2)\n",
    "    preOrderTraversal(rootNode.rightChild)#---------------O(N/2)\n",
    " #----------------------Time Complexity is O(N)------------------------#\n",
    "\n",
    "def inOrderTraversal(rootNode):\n",
    "    if not rootNode:\n",
    "        return\n",
    "    inOrderTraversal(rootNode.leftChild)\n",
    "    print(rootNode.data)\n",
    "    inOrderTraversal(rootNode.rightChild)\n",
    "\n",
    "def postOrderTraversal(rootNode):\n",
    "    if not rootNode:\n",
    "        return\n",
    "    postOrderTraversal(rootNode.leftChild)\n",
    "    postOrderTraversal(rootNode.rightChild)\n",
    "    print(rootNode.data)\n",
    "    \n",
    "print(\"preOrderTraversal: \")        \n",
    "preOrderTraversal(newBinTree)\n",
    "print(\"inOrderTraversal: \")\n",
    "inOrderTraversal(newBinTree)\n",
    "print(\"postOrderTraversal: \")\n",
    "postOrderTraversal(newBinTree)"
   ]
  },
  {
   "cell_type": "code",
   "execution_count": null,
   "metadata": {},
   "outputs": [],
   "source": []
  },
  {
   "cell_type": "code",
   "execution_count": null,
   "metadata": {},
   "outputs": [],
   "source": []
  }
 ],
 "metadata": {
  "kernelspec": {
   "display_name": "Python 3",
   "language": "python",
   "name": "python3"
  },
  "language_info": {
   "codemirror_mode": {
    "name": "ipython",
    "version": 3
   },
   "file_extension": ".py",
   "mimetype": "text/x-python",
   "name": "python",
   "nbconvert_exporter": "python",
   "pygments_lexer": "ipython3",
   "version": "3.8.5"
  }
 },
 "nbformat": 4,
 "nbformat_minor": 4
}
