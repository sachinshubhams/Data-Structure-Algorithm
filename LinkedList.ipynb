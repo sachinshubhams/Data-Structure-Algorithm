{
 "cells": [
  {
   "cell_type": "code",
   "execution_count": 1,
   "metadata": {},
   "outputs": [],
   "source": [
    "class Node:\n",
    "    def __init__(self, data=None, next=None):\n",
    "        self.data = data\n",
    "        self.next = next\n",
    "\n",
    "\n",
    "class LinkedList:\n",
    "    def __init__(self):\n",
    "        self.head = None\n",
    "\n",
    "    def insert_at_beggining(self, data):\n",
    "        node = Node(data, self.head)\n",
    "        self.head = node\n",
    "\n",
    "    def print(self):\n",
    "        if self.head is None:\n",
    "            print(\"LL is empty\")\n",
    "            return\n",
    "        itr = self.head\n",
    "        llstr = ''\n",
    "        while itr:\n",
    "            llstr += str(itr.data) + '--->'\n",
    "            itr=itr.next\n",
    "        print(llstr)\n",
    "    def insert_at_end(self,data):\n",
    "        if self.head is None:\n",
    "            self.head=Node(data,None)\n",
    "            return\n",
    "        itr=self.head\n",
    "        while itr.next:\n",
    "            itr=itr.next\n",
    "        itr.next=Node(data,None)\n",
    "\n",
    "    def insert_the_values(self, lt_data):\n",
    "        self.head=None\n",
    "        for i in lt_data:\n",
    "            self.insert_at_end(i)\n",
    "\n",
    "    def get_li_length(self):\n",
    "        count=0\n",
    "        itr=self.head\n",
    "        while itr:\n",
    "            count+=1\n",
    "            itr=itr.next\n",
    "        return count\n",
    "\n",
    "    def remove_ll_at(self, index):\n",
    "        if index<0 or index>=self.get_li_length():\n",
    "            raise Exception(\"IndexOutOfBound\")\n",
    "        if index==0:\n",
    "            self.head==self.head.next\n",
    "            return\n",
    "        count=0\n",
    "        itr=self.head\n",
    "        while itr:\n",
    "            if count==index-1:\n",
    "                itr.next=itr.next.next\n",
    "                break\n",
    "            itr=itr.next\n",
    "            count+=1\n",
    "\n",
    "    def insert_ll_at(self, index, data):\n",
    "        if index<0 or index>=self.get_li_length():\n",
    "            raise Exception(\"IndexOutOfBound\")\n",
    "        if index==0:\n",
    "            self.insert_at_beggining(data)\n",
    "            return\n",
    "        count=0\n",
    "        itr=self.head\n",
    "        while itr:\n",
    "            if count == index - 1:\n",
    "                node = Node(data, itr.next)\n",
    "                itr.next = node\n",
    "                break\n",
    "\n",
    "            itr = itr.next\n",
    "            count += 1\n"
   ]
  },
  {
   "cell_type": "code",
   "execution_count": 2,
   "metadata": {},
   "outputs": [
    {
     "name": "stdout",
     "output_type": "stream",
     "text": [
      "Houston--->Austin--->Dallas--->Spring--->Pearland--->\n",
      " ll length :  5\n",
      "Houston--->Austin--->Dallas--->Spring--->Pearland--->\n",
      "Houston--->Austin--->Waco--->Dallas--->Spring--->Pearland--->\n"
     ]
    }
   ],
   "source": [
    "if __name__ == '__main__':\n",
    "    ll=LinkedList()\n",
    "    ll.insert_the_values(['Houston','Austin','Dallas','Spring', 'Pearland' ])\n",
    "    ll.print()\n",
    "    print(\" ll length : \",ll.get_li_length())\n",
    "    ll.remove_ll_at(0)\n",
    "    ll.print()\n",
    "    ll.insert_ll_at(2,'Waco')\n",
    "    ll.print()"
   ]
  },
  {
   "cell_type": "code",
   "execution_count": null,
   "metadata": {},
   "outputs": [],
   "source": []
  }
 ],
 "metadata": {
  "kernelspec": {
   "display_name": "Python 3",
   "language": "python",
   "name": "python3"
  },
  "language_info": {
   "codemirror_mode": {
    "name": "ipython",
    "version": 3
   },
   "file_extension": ".py",
   "mimetype": "text/x-python",
   "name": "python",
   "nbconvert_exporter": "python",
   "pygments_lexer": "ipython3",
   "version": "3.8.5"
  }
 },
 "nbformat": 4,
 "nbformat_minor": 4
}
