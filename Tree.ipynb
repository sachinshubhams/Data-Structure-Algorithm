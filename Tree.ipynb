{
 "cells": [
  {
   "cell_type": "code",
   "execution_count": 22,
   "metadata": {},
   "outputs": [],
   "source": [
    "class TreeNode:\n",
    "    def __init__(self, data, children=[]):\n",
    "        self.data=data\n",
    "        self.children=children\n",
    "        \n",
    "    def __str__(self, level=0):\n",
    "        ret = \"  \" * level + str(self.data)  + \"\\n\"\n",
    "        for child in self.children:\n",
    "            ret += child.__str__(level + 1)\n",
    "        return ret\n",
    "        \n",
    "    def addChild(self, TreeNode):\n",
    "        self.children.append(TreeNode)"
   ]
  },
  {
   "cell_type": "code",
   "execution_count": null,
   "metadata": {},
   "outputs": [],
   "source": [
    "\n"
   ]
  },
  {
   "cell_type": "code",
   "execution_count": 29,
   "metadata": {},
   "outputs": [
    {
     "name": "stdout",
     "output_type": "stream",
     "text": [
      "N1\n",
      "  N2\n",
      "    N4\n",
      "      N7\n",
      "      N8\n",
      "    N5\n",
      "  N3\n",
      "    N6\n",
      "\n"
     ]
    }
   ],
   "source": [
    "n1=TreeNode('N1',[])\n",
    "n2=TreeNode('N2', [])\n",
    "n3=TreeNode('N3', [])\n",
    "n4=TreeNode('N4', [])\n",
    "n5=TreeNode('N5', [])\n",
    "n6=TreeNode('N6', [])\n",
    "n7=TreeNode('N7', [])\n",
    "n8=TreeNode('N8', [])\n",
    "n1.addChild(n2)\n",
    "n1.addChild(n3)\n",
    "n2.addChild(n4)\n",
    "n2.addChild(n5)\n",
    "n3.addChild(n6)\n",
    "n4.addChild(n7)\n",
    "n4.addChild(n8)\n",
    "print(n1)"
   ]
  }
 ],
 "metadata": {
  "kernelspec": {
   "display_name": "Python 3",
   "language": "python",
   "name": "python3"
  },
  "language_info": {
   "codemirror_mode": {
    "name": "ipython",
    "version": 3
   },
   "file_extension": ".py",
   "mimetype": "text/x-python",
   "name": "python",
   "nbconvert_exporter": "python",
   "pygments_lexer": "ipython3",
   "version": "3.8.5"
  }
 },
 "nbformat": 4,
 "nbformat_minor": 4
}
