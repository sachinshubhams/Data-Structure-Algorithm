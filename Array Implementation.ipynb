{
 "cells": [
  {
   "cell_type": "code",
   "execution_count": 22,
   "metadata": {},
   "outputs": [],
   "source": [
    "class Array:\n",
    "    def __init__(self):\n",
    "        self.length=0\n",
    "        self.data={}\n",
    "\n",
    "    def __str__(self):\n",
    "        return str(self.__dict__)\n",
    "\n",
    "    def get(self, index):\n",
    "        return self.data[index]\n",
    "\n",
    "    def push(self,item):\n",
    "        self.data[self.length]=item\n",
    "        self.length+=1\n",
    "        return self.length\n",
    "    \n",
    "    def pop(self):\n",
    "        last_item=self.data[self.length-1]\n",
    "        del self.data[self.length-1]\n",
    "        self.length-=1\n",
    "        return last_item\n",
    "    \n",
    "    def delete(self, index):\n",
    "            for i in range(index,self.length-1):\n",
    "                self.data[i]=self.data[i+1]\n",
    "            del self.data[self.length-1]\n",
    "            self.length-=1\n",
    "    \n",
    "    def insert(self, index, item):\n",
    "        self.length+=1\n",
    "        for i in range(self.length-1,index):\n",
    "            #self.data[i]=self.data[i-1]\n",
    "            self.data[i+1]=self.data[i]\n",
    "            #i-=1\n",
    "        self.data[index]=item"
   ]
  },
  {
   "cell_type": "code",
   "execution_count": 27,
   "metadata": {},
   "outputs": [
    {
     "name": "stdout",
     "output_type": "stream",
     "text": [
      "{'length': 5, 'data': {0: 1, 1: 'world', 2: 'i', 3: 'am', 4: 'hello world at index 4'}}\n"
     ]
    }
   ],
   "source": [
    "arr=Array()\n",
    "arr.push(1)\n",
    "arr.push(\"hello\")\n",
    "arr.push('world')\n",
    "arr.push('i')\n",
    "arr.push('am')\n",
    "arr.push('coding')\n",
    "arr.pop()\n",
    "arr.delete(1)\n",
    "arr.insert(4,'hello world at index 4')\n",
    "print(arr)"
   ]
  }
 ],
 "metadata": {
  "kernelspec": {
   "display_name": "Python 3",
   "language": "python",
   "name": "python3"
  },
  "language_info": {
   "codemirror_mode": {
    "name": "ipython",
    "version": 3
   },
   "file_extension": ".py",
   "mimetype": "text/x-python",
   "name": "python",
   "nbconvert_exporter": "python",
   "pygments_lexer": "ipython3",
   "version": "3.8.5"
  }
 },
 "nbformat": 4,
 "nbformat_minor": 4
}
