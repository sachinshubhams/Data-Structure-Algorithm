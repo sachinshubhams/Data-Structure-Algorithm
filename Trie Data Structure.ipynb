{
 "cells": [
  {
   "cell_type": "code",
   "execution_count": 26,
   "metadata": {},
   "outputs": [
    {
     "name": "stdout",
     "output_type": "stream",
     "text": [
      "Inserted\n"
     ]
    },
    {
     "data": {
      "text/plain": [
       "True"
      ]
     },
     "execution_count": 26,
     "metadata": {},
     "output_type": "execute_result"
    }
   ],
   "source": [
    "class TrieNode:\n",
    "    def __init__(self):\n",
    "        self.children={}\n",
    "        self.endOfString=False\n",
    "\n",
    "class Trie:\n",
    "    def __init__(self):\n",
    "        self.root=TrieNode()\n",
    "        \n",
    "    def insertString(self, word):\n",
    "        currentNode=self.root\n",
    "        for i in word:\n",
    "            char=i\n",
    "            node=currentNode.children.get(char)\n",
    "            if node==None:\n",
    "                node=TrieNode()\n",
    "                currentNode.children.update({char:node})\n",
    "            currentNode=node\n",
    "        currentNode.endOfString=True\n",
    "        print(\"Inserted\")\n",
    "        \n",
    "    def searchString(self, word):\n",
    "        currentNode = self.root\n",
    "        for i in word:\n",
    "            node = currentNode.children.get(i)\n",
    "            if node == None:\n",
    "                return False\n",
    "            currentNode = node\n",
    "\n",
    "        if currentNode.endOfString == True:\n",
    "            return True\n",
    "        else:\n",
    "            return False\n",
    "\n",
    "def deleteString(root, word,index):\n",
    "    ch=word[index]\n",
    "    currentNode=root.children.get(ch)\n",
    "    isThisNodeDeleted=False\n",
    "    \n",
    "    if len(currentNode.children)>1:\n",
    "        deleteString(currentNode,word,index+1)\n",
    "        return False\n",
    "    if index ==len(word)-1:\n",
    "        if len(currentNode.children)>=1:\n",
    "            currentNode.endOfString=False\n",
    "            return False\n",
    "        else:\n",
    "            root.children.pop(ch)\n",
    "            return True\n",
    "    if currentNode.endOfString==True:\n",
    "        deleteString(currentNode,word,index+1)\n",
    "        return False\n",
    "    isThisNodeDeleted=deleteString(currentNode,word,index+1)\n",
    "    if isThisNodeDeleted==True:\n",
    "        root.children.pop(ch)\n",
    "        return True\n",
    "    else:\n",
    "        return False\n",
    "        \n",
    "            \n",
    "   \n",
    "newTrie=Trie()"
   ]
  },
  {
   "cell_type": "code",
   "execution_count": 29,
   "metadata": {},
   "outputs": [
    {
     "data": {
      "text/plain": [
       "True"
      ]
     },
     "execution_count": 29,
     "metadata": {},
     "output_type": "execute_result"
    }
   ],
   "source": [
    "newTrie.searchString(\"Sachin\")"
   ]
  },
  {
   "cell_type": "code",
   "execution_count": 28,
   "metadata": {},
   "outputs": [
    {
     "name": "stdout",
     "output_type": "stream",
     "text": [
      "Inserted\n"
     ]
    }
   ],
   "source": [
    "newTrie.insertString(\"Sachin\")"
   ]
  },
  {
   "cell_type": "code",
   "execution_count": 30,
   "metadata": {},
   "outputs": [
    {
     "data": {
      "text/plain": [
       "True"
      ]
     },
     "execution_count": 30,
     "metadata": {},
     "output_type": "execute_result"
    }
   ],
   "source": [
    "deleteString(newTrie.root, \"Sachin\", 0)"
   ]
  },
  {
   "cell_type": "code",
   "execution_count": null,
   "metadata": {},
   "outputs": [],
   "source": []
  }
 ],
 "metadata": {
  "kernelspec": {
   "display_name": "Python 3",
   "language": "python",
   "name": "python3"
  },
  "language_info": {
   "codemirror_mode": {
    "name": "ipython",
    "version": 3
   },
   "file_extension": ".py",
   "mimetype": "text/x-python",
   "name": "python",
   "nbconvert_exporter": "python",
   "pygments_lexer": "ipython3",
   "version": "3.8.5"
  }
 },
 "nbformat": 4,
 "nbformat_minor": 4
}
